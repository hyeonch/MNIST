{
 "cells": [
  {
   "cell_type": "markdown",
   "id": "PJOle57nD8e8",
   "metadata": {
    "id": "PJOle57nD8e8"
   },
   "source": [
    "# Import"
   ]
  },
  {
   "cell_type": "code",
   "execution_count": 78,
   "id": "d988ef90",
   "metadata": {
    "ExecuteTime": {
     "start_time": "2021-09-15T04:42:03.218Z"
    },
    "executionInfo": {
     "elapsed": 524,
     "status": "ok",
     "timestamp": 1631760509979,
     "user": {
      "displayName": "HyeonChan Hwang",
      "photoUrl": "https://lh3.googleusercontent.com/a/default-user=s64",
      "userId": "10852829717136749454"
     },
     "user_tz": -540
    },
    "id": "d988ef90"
   },
   "outputs": [],
   "source": [
    "import tensorflow as tf\n",
    "from tensorflow.keras import layers\n",
    "from keras.utils.np_utils import to_categorical\n",
    "import matplotlib.pyplot as plt"
   ]
  },
  {
   "cell_type": "markdown",
   "id": "37L0cyI6EBtm",
   "metadata": {
    "id": "37L0cyI6EBtm"
   },
   "source": [
    "# MNIST 데이터 세팅: MLP"
   ]
  },
  {
   "cell_type": "code",
   "execution_count": 79,
   "id": "a995aa5f",
   "metadata": {
    "colab": {
     "base_uri": "https://localhost:8080/"
    },
    "executionInfo": {
     "elapsed": 4,
     "status": "ok",
     "timestamp": 1631760510542,
     "user": {
      "displayName": "HyeonChan Hwang",
      "photoUrl": "https://lh3.googleusercontent.com/a/default-user=s64",
      "userId": "10852829717136749454"
     },
     "user_tz": -540
    },
    "id": "a995aa5f",
    "outputId": "146b910b-3fbf-42e0-d2fc-a39d7ef17d6c"
   },
   "outputs": [
    {
     "data": {
      "text/plain": [
       "((60000, 28, 28), (10000, 28, 28))"
      ]
     },
     "execution_count": 79,
     "metadata": {},
     "output_type": "execute_result"
    }
   ],
   "source": [
    "mnist = tf.keras.datasets.mnist\n",
    "(x_train, y_train), (x_test, y_test) = mnist.load_data()\n",
    "x_train, x_test = x_train/255.0, x_test/255.0 #샘플 값 소수 변환\n",
    "\n",
    "x_train.shape, x_test.shape\n",
    "#각 샘플 값이 60000개의 28x28 2D data로 이루어져있음, MLP 처리를 위해 길이 784인 1D data로 reshape 필요"
   ]
  },
  {
   "cell_type": "code",
   "execution_count": 80,
   "id": "VjsttkyiCvfT",
   "metadata": {
    "colab": {
     "base_uri": "https://localhost:8080/"
    },
    "executionInfo": {
     "elapsed": 2,
     "status": "ok",
     "timestamp": 1631760510542,
     "user": {
      "displayName": "HyeonChan Hwang",
      "photoUrl": "https://lh3.googleusercontent.com/a/default-user=s64",
      "userId": "10852829717136749454"
     },
     "user_tz": -540
    },
    "id": "VjsttkyiCvfT",
    "outputId": "d95b8eb4-f8aa-453a-bfeb-ca429c874a4e"
   },
   "outputs": [
    {
     "data": {
      "text/plain": [
       "((60000, 784), (10000, 784))"
      ]
     },
     "execution_count": 80,
     "metadata": {},
     "output_type": "execute_result"
    }
   ],
   "source": [
    "x_train = x_train.reshape(x_train.shape[0],-1)\n",
    "x_test = x_test.reshape(x_test.shape[0],-1)\n",
    "\n",
    "x_train.shape, x_test.shape"
   ]
  },
  {
   "cell_type": "code",
   "execution_count": 81,
   "id": "LO00eLtxNFpG",
   "metadata": {
    "colab": {
     "base_uri": "https://localhost:8080/"
    },
    "executionInfo": {
     "elapsed": 357,
     "status": "ok",
     "timestamp": 1631760510898,
     "user": {
      "displayName": "HyeonChan Hwang",
      "photoUrl": "https://lh3.googleusercontent.com/a/default-user=s64",
      "userId": "10852829717136749454"
     },
     "user_tz": -540
    },
    "id": "LO00eLtxNFpG",
    "outputId": "644a4955-589a-4ed6-c007-45704c100754"
   },
   "outputs": [
    {
     "data": {
      "text/plain": [
       "((60000, 10), (10000, 10))"
      ]
     },
     "execution_count": 81,
     "metadata": {},
     "output_type": "execute_result"
    }
   ],
   "source": [
    "y_train = to_categorical(y_train)\n",
    "y_test = to_categorical(y_test)\n",
    "\n",
    "y_train.shape, y_test.shape"
   ]
  },
  {
   "cell_type": "markdown",
   "id": "1qsqUd0BMCoP",
   "metadata": {
    "id": "1qsqUd0BMCoP"
   },
   "source": [
    "# 모델 생성: MLP"
   ]
  },
  {
   "cell_type": "code",
   "execution_count": 82,
   "id": "AfvdS6inC40w",
   "metadata": {
    "executionInfo": {
     "elapsed": 3,
     "status": "ok",
     "timestamp": 1631760510899,
     "user": {
      "displayName": "HyeonChan Hwang",
      "photoUrl": "https://lh3.googleusercontent.com/a/default-user=s64",
      "userId": "10852829717136749454"
     },
     "user_tz": -540
    },
    "id": "AfvdS6inC40w"
   },
   "outputs": [],
   "source": [
    "model_mlp = tf.keras.models.Sequential()\n",
    "model_mlp.add(layers.Dense(256))\n",
    "model_mlp.add(layers.Activation('relu'))\n",
    "model_mlp.add(layers.Dense(10))\n",
    "model_mlp.add(layers.Activation('softmax'))\n",
    "\n",
    "SGD = tf.keras.optimizers.SGD(learning_rate=0.1)\n",
    "Adag = tf.keras.optimizers.Adagrad(learning_rate=0.1)\n",
    "model_mlp.compile(optimizer=Adag, loss='mse', metrics=['accuracy'])"
   ]
  },
  {
   "cell_type": "markdown",
   "id": "eSrff2O1TP16",
   "metadata": {
    "id": "eSrff2O1TP16"
   },
   "source": [
    "# 학습 진행: MLP"
   ]
  },
  {
   "cell_type": "code",
   "execution_count": 83,
   "id": "VQlj34m4PvUw",
   "metadata": {
    "colab": {
     "base_uri": "https://localhost:8080/"
    },
    "executionInfo": {
     "elapsed": 12429,
     "status": "ok",
     "timestamp": 1631760523326,
     "user": {
      "displayName": "HyeonChan Hwang",
      "photoUrl": "https://lh3.googleusercontent.com/a/default-user=s64",
      "userId": "10852829717136749454"
     },
     "user_tz": -540
    },
    "id": "VQlj34m4PvUw",
    "outputId": "5f4464ad-1110-4ff7-dd56-ee8752134c28"
   },
   "outputs": [
    {
     "name": "stdout",
     "output_type": "stream",
     "text": [
      "Epoch 1/10\n",
      "235/235 [==============================] - 1s 4ms/step - loss: 0.0666 - accuracy: 0.5408\n",
      "Epoch 2/10\n",
      "235/235 [==============================] - 1s 3ms/step - loss: 0.0325 - accuracy: 0.8252\n",
      "Epoch 3/10\n",
      "235/235 [==============================] - 1s 3ms/step - loss: 0.0229 - accuracy: 0.8710\n",
      "Epoch 4/10\n",
      "235/235 [==============================] - 1s 3ms/step - loss: 0.0194 - accuracy: 0.8864\n",
      "Epoch 5/10\n",
      "235/235 [==============================] - 1s 3ms/step - loss: 0.0175 - accuracy: 0.8956\n",
      "Epoch 6/10\n",
      "235/235 [==============================] - 1s 3ms/step - loss: 0.0162 - accuracy: 0.9020\n",
      "Epoch 7/10\n",
      "235/235 [==============================] - 1s 3ms/step - loss: 0.0153 - accuracy: 0.9061\n",
      "Epoch 8/10\n",
      "235/235 [==============================] - 1s 3ms/step - loss: 0.0146 - accuracy: 0.9107\n",
      "Epoch 9/10\n",
      "235/235 [==============================] - 1s 3ms/step - loss: 0.0140 - accuracy: 0.9136\n",
      "Epoch 10/10\n",
      "235/235 [==============================] - 1s 3ms/step - loss: 0.0135 - accuracy: 0.9165\n",
      "313/313 [==============================] - 1s 2ms/step - loss: 0.0127 - accuracy: 0.9217\n"
     ]
    },
    {
     "data": {
      "text/plain": [
       "[0.012667379342019558, 0.9217000007629395]"
      ]
     },
     "execution_count": 83,
     "metadata": {},
     "output_type": "execute_result"
    }
   ],
   "source": [
    "hist_mlp = model_mlp.fit(x_train, y_train, batch_size=256, epochs=10)\n",
    "model_mlp.evaluate(x_test,y_test)"
   ]
  },
  {
   "cell_type": "markdown",
   "id": "0WMWQS2nf6BN",
   "metadata": {
    "id": "0WMWQS2nf6BN"
   },
   "source": [
    "# 모델 생성: CNN"
   ]
  },
  {
   "cell_type": "code",
   "execution_count": 84,
   "id": "84XyOv8zejrC",
   "metadata": {
    "colab": {
     "base_uri": "https://localhost:8080/"
    },
    "executionInfo": {
     "elapsed": 27,
     "status": "ok",
     "timestamp": 1631760523327,
     "user": {
      "displayName": "HyeonChan Hwang",
      "photoUrl": "https://lh3.googleusercontent.com/a/default-user=s64",
      "userId": "10852829717136749454"
     },
     "user_tz": -540
    },
    "id": "84XyOv8zejrC",
    "outputId": "951b267a-b678-4e65-fc47-15a0bccf822f"
   },
   "outputs": [
    {
     "data": {
      "text/plain": [
       "((60000, 28, 28, 1), (10000, 28, 28, 1))"
      ]
     },
     "execution_count": 84,
     "metadata": {},
     "output_type": "execute_result"
    }
   ],
   "source": [
    "#다시 2D 데이터로\n",
    "x_train = x_train.reshape(x_train.shape[0],28,28,1)\n",
    "x_test = x_test.reshape(x_test.shape[0],28,28,1)\n",
    "\n",
    "x_train.shape, x_test.shape"
   ]
  },
  {
   "cell_type": "code",
   "execution_count": 85,
   "id": "ajguBRlKlV3J",
   "metadata": {
    "colab": {
     "base_uri": "https://localhost:8080/"
    },
    "executionInfo": {
     "elapsed": 21,
     "status": "ok",
     "timestamp": 1631760523327,
     "user": {
      "displayName": "HyeonChan Hwang",
      "photoUrl": "https://lh3.googleusercontent.com/a/default-user=s64",
      "userId": "10852829717136749454"
     },
     "user_tz": -540
    },
    "id": "ajguBRlKlV3J",
    "outputId": "5c1553da-4694-48c0-bbe6-72b960b12923"
   },
   "outputs": [
    {
     "data": {
      "text/plain": [
       "((60000, 10), (10000, 10))"
      ]
     },
     "execution_count": 85,
     "metadata": {},
     "output_type": "execute_result"
    }
   ],
   "source": [
    "y_train.shape, y_test.shape"
   ]
  },
  {
   "cell_type": "code",
   "execution_count": 86,
   "id": "KK_8U4a1gwVq",
   "metadata": {
    "executionInfo": {
     "elapsed": 18,
     "status": "ok",
     "timestamp": 1631760523327,
     "user": {
      "displayName": "HyeonChan Hwang",
      "photoUrl": "https://lh3.googleusercontent.com/a/default-user=s64",
      "userId": "10852829717136749454"
     },
     "user_tz": -540
    },
    "id": "KK_8U4a1gwVq"
   },
   "outputs": [],
   "source": [
    "model_cnn = tf.keras.models.Sequential()\n",
    "model_cnn.add(layers.Conv2D(filters=32, kernel_size=[3,3], padding='same', activation='relu'))\n",
    "model_cnn.add(layers.MaxPool2D(pool_size=(2,2), strides=(2,2)))\n",
    "model_cnn.add(layers.Conv2D(filters=32, kernel_size=[3,3], padding='same', activation='relu'))\n",
    "model_cnn.add(layers.MaxPool2D(pool_size=(2,2), strides=(2,2)))\n",
    "model_cnn.add(layers.Flatten())\n",
    "model_cnn.add(layers.Dense(10,activation='softmax'))\n",
    "\n",
    "Adag = tf.keras.optimizers.Adagrad(learning_rate=0.1)\n",
    "model_cnn.compile(optimizer=Adag, loss='categorical_crossentropy', metrics=['accuracy'])"
   ]
  },
  {
   "cell_type": "markdown",
   "id": "KW6VdyHJo-UV",
   "metadata": {
    "id": "KW6VdyHJo-UV"
   },
   "source": [
    "# 학습 진행: CNN"
   ]
  },
  {
   "cell_type": "code",
   "execution_count": 87,
   "id": "DDfntvQuiQAT",
   "metadata": {
    "colab": {
     "base_uri": "https://localhost:8080/"
    },
    "executionInfo": {
     "elapsed": 42697,
     "status": "ok",
     "timestamp": 1631760566007,
     "user": {
      "displayName": "HyeonChan Hwang",
      "photoUrl": "https://lh3.googleusercontent.com/a/default-user=s64",
      "userId": "10852829717136749454"
     },
     "user_tz": -540
    },
    "id": "DDfntvQuiQAT",
    "outputId": "8358f75a-bf83-4e8c-8b90-6634952339c6"
   },
   "outputs": [
    {
     "name": "stdout",
     "output_type": "stream",
     "text": [
      "Epoch 1/10\n",
      "235/235 [==============================] - 3s 11ms/step - loss: 0.3584 - accuracy: 0.8940\n",
      "Epoch 2/10\n",
      "235/235 [==============================] - 3s 11ms/step - loss: 0.0949 - accuracy: 0.9713\n",
      "Epoch 3/10\n",
      "235/235 [==============================] - 3s 11ms/step - loss: 0.0720 - accuracy: 0.9780\n",
      "Epoch 4/10\n",
      "235/235 [==============================] - 3s 11ms/step - loss: 0.0588 - accuracy: 0.9821\n",
      "Epoch 5/10\n",
      "235/235 [==============================] - 3s 11ms/step - loss: 0.0494 - accuracy: 0.9849\n",
      "Epoch 6/10\n",
      "235/235 [==============================] - 3s 11ms/step - loss: 0.0443 - accuracy: 0.9863\n",
      "Epoch 7/10\n",
      "235/235 [==============================] - 3s 11ms/step - loss: 0.0399 - accuracy: 0.9880\n",
      "Epoch 8/10\n",
      "235/235 [==============================] - 3s 11ms/step - loss: 0.0366 - accuracy: 0.9890\n",
      "Epoch 9/10\n",
      "235/235 [==============================] - 3s 11ms/step - loss: 0.0342 - accuracy: 0.9897\n",
      "Epoch 10/10\n",
      "235/235 [==============================] - 3s 11ms/step - loss: 0.0309 - accuracy: 0.9906\n",
      "313/313 [==============================] - 1s 3ms/step - loss: 0.0447 - accuracy: 0.9847\n"
     ]
    },
    {
     "data": {
      "text/plain": [
       "[0.044705577194690704, 0.9847000241279602]"
      ]
     },
     "execution_count": 87,
     "metadata": {},
     "output_type": "execute_result"
    }
   ],
   "source": [
    "hist_cnn = model_cnn.fit(x_train, y_train, batch_size=256, epochs=10)\n",
    "model_cnn.evaluate(x_test,y_test)"
   ]
  },
  {
   "cell_type": "markdown",
   "id": "7qKiTSBbpF8_",
   "metadata": {
    "id": "7qKiTSBbpF8_"
   },
   "source": [
    "# 모델 생성: RNN\n"
   ]
  },
  {
   "cell_type": "code",
   "execution_count": null,
   "id": "4b41b2e6",
   "metadata": {
    "executionInfo": {
     "elapsed": 517,
     "status": "ok",
     "timestamp": 1631761423705,
     "user": {
      "displayName": "HyeonChan Hwang",
      "photoUrl": "https://lh3.googleusercontent.com/a/default-user=s64",
      "userId": "10852829717136749454"
     },
     "user_tz": -540
    },
    "id": "HYwFkE7spqqL"
   },
   "outputs": [],
   "source": [
    "x_train, x_test = x_train.squeeze(), x_test.squeeze()\n",
    "\n",
    "model_rnn = tf.keras.models.Sequential()\n",
    "model_rnn.add(layers.LSTM(64))\n",
    "model_rnn.add(layers.Dense(10))\n",
    "\n",
    "model_rnn.compile(\n",
    "    loss=tf.keras.losses.CategoricalCrossentropy(from_logits=True),\n",
    "    optimizer=Adag,\n",
    "    metrics=[\"accuracy\"],\n",
    ")"
   ]
  },
  {
   "cell_type": "markdown",
   "id": "lAHJVrU-zCrK",
   "metadata": {
    "id": "lAHJVrU-zCrK"
   },
   "source": [
    "# 학습 진행: RNN"
   ]
  },
  {
   "cell_type": "code",
   "execution_count": 104,
   "id": "FEZweKN3tF2X",
   "metadata": {
    "colab": {
     "base_uri": "https://localhost:8080/"
    },
    "executionInfo": {
     "elapsed": 28338,
     "status": "ok",
     "timestamp": 1631761464909,
     "user": {
      "displayName": "HyeonChan Hwang",
      "photoUrl": "https://lh3.googleusercontent.com/a/default-user=s64",
      "userId": "10852829717136749454"
     },
     "user_tz": -540
    },
    "id": "FEZweKN3tF2X",
    "outputId": "4890c79f-12ea-4492-9e72-f666b1ee6a2a"
   },
   "outputs": [
    {
     "name": "stdout",
     "output_type": "stream",
     "text": [
      "Epoch 1/10\n",
      "235/235 [==============================] - 4s 10ms/step - loss: 1.1739 - accuracy: 0.6000\n",
      "Epoch 2/10\n",
      "235/235 [==============================] - 2s 10ms/step - loss: 0.3547 - accuracy: 0.8895\n",
      "Epoch 3/10\n",
      "235/235 [==============================] - 2s 10ms/step - loss: 0.1936 - accuracy: 0.9427\n",
      "Epoch 4/10\n",
      "235/235 [==============================] - 2s 10ms/step - loss: 0.1424 - accuracy: 0.9577\n",
      "Epoch 5/10\n",
      "235/235 [==============================] - 2s 10ms/step - loss: 0.1128 - accuracy: 0.9671\n",
      "Epoch 6/10\n",
      "235/235 [==============================] - 2s 10ms/step - loss: 0.0949 - accuracy: 0.9719\n",
      "Epoch 7/10\n",
      "235/235 [==============================] - 2s 10ms/step - loss: 0.0835 - accuracy: 0.9754\n",
      "Epoch 8/10\n",
      "235/235 [==============================] - 2s 10ms/step - loss: 0.0742 - accuracy: 0.9780\n",
      "Epoch 9/10\n",
      "235/235 [==============================] - 2s 10ms/step - loss: 0.0664 - accuracy: 0.9800\n",
      "Epoch 10/10\n",
      "235/235 [==============================] - 2s 10ms/step - loss: 0.0599 - accuracy: 0.9823\n",
      "313/313 [==============================] - 2s 5ms/step - loss: 0.0757 - accuracy: 0.9781\n"
     ]
    },
    {
     "data": {
      "text/plain": [
       "[0.07567944377660751, 0.9781000018119812]"
      ]
     },
     "execution_count": 104,
     "metadata": {},
     "output_type": "execute_result"
    }
   ],
   "source": [
    "hist_rnn = model_rnn.fit(x_train,y_train, batch_size=256, epochs=10)\n",
    "model_rnn.evaluate(x_test,y_test)"
   ]
  },
  {
   "cell_type": "code",
   "execution_count": 105,
   "id": "32qKTqGbfda9",
   "metadata": {
    "colab": {
     "base_uri": "https://localhost:8080/",
     "height": 545
    },
    "executionInfo": {
     "elapsed": 937,
     "status": "ok",
     "timestamp": 1631761469567,
     "user": {
      "displayName": "HyeonChan Hwang",
      "photoUrl": "https://lh3.googleusercontent.com/a/default-user=s64",
      "userId": "10852829717136749454"
     },
     "user_tz": -540
    },
    "id": "32qKTqGbfda9",
    "outputId": "878dbd59-2cd1-4179-bcce-c5b72b90dc7b"
   },
   "outputs": [
    {
     "data": {
      "image/png": "[encoded data removed]",
      "text/plain": [
       "<Figure size 432x288 with 1 Axes>"
      ]
     },
     "metadata": {
      "needs_background": "light"
     },
     "output_type": "display_data"
    },
    {
     "data": {
      "image/png": "[encoded data removed]",
      "text/plain": [
       "<Figure size 432x288 with 1 Axes>"
      ]
     },
     "metadata": {
      "needs_background": "light"
     },
     "output_type": "display_data"
    }
   ],
   "source": [
    "plt.figure(1)\n",
    "plt.plot(hist_mlp.history['loss'], label='mlp')\n",
    "plt.plot(hist_cnn.history['loss'], label = 'cnn')\n",
    "plt.plot(hist_rnn.history['loss'], label='rnn')\n",
    "plt.legend()\n",
    "plt.title('Loss')\n",
    "\n",
    "plt.figure(2)\n",
    "plt.plot(hist_mlp.history['accuracy'], label='mlp')\n",
    "plt.plot(hist_cnn.history['accuracy'], label='cnn')\n",
    "plt.plot(hist_rnn.history['accuracy'], label='rnn')\n",
    "plt.legend()\n",
    "plt.title('Accuracy')\n",
    "\n",
    "plt.show()"
   ]
  },
  {
   "cell_type": "code",
   "execution_count": 8,
   "id": "0fb2283c",
   "metadata": {
    "ExecuteTime": {
     "end_time": "2021-09-23T10:04:04.719192Z",
     "start_time": "2021-09-23T10:04:04.710502Z"
    }
   },
   "outputs": [
    {
     "data": {
      "text/plain": [
       "{}"
      ]
     },
     "execution_count": 8,
     "metadata": {},
     "output_type": "execute_result"
    }
   ],
   "source": [
    "kwargs = {'meta_csv_path':'dd/dd'}\n",
    "args = ('dskf')\n",
    "{key: value for key, value in kwargs.items() if key in args}"
   ]
  },
  {
   "cell_type": "code",
   "execution_count": 6,
   "id": "20a7cfbb",
   "metadata": {
    "ExecuteTime": {
     "end_time": "2021-09-23T10:02:32.728831Z",
     "start_time": "2021-09-23T10:02:32.723655Z"
    }
   },
   "outputs": [
    {
     "ename": "SyntaxError",
     "evalue": "invalid syntax (<ipython-input-6-a86a2c760d99>, line 1)",
     "output_type": "error",
     "traceback": [
      "\u001b[0;36m  File \u001b[0;32m\"<ipython-input-6-a86a2c760d99>\"\u001b[0;36m, line \u001b[0;32m1\u001b[0m\n\u001b[0;31m    {'ddd':3 if a==0}\u001b[0m\n\u001b[0m                    ^\u001b[0m\n\u001b[0;31mSyntaxError\u001b[0m\u001b[0;31m:\u001b[0m invalid syntax\n"
     ]
    }
   ],
   "source": []
  },
  {
   "cell_type": "code",
   "execution_count": null,
   "id": "bb536164",
   "metadata": {
    "ExecuteTime": {
     "start_time": "2021-10-05T06:32:14.499Z"
    }
   },
   "outputs": [],
   "source": [
    "import tensorflow.compat.v1 as tf\n",
    "\n",
    "tf.disable_v2_behavior()\n",
    "import numpy as np\n",
    "import os\n",
    "\n",
    "tf.reset_default_graph()\n",
    "# os.environ[\"CUDA_VISIBLE_DEVICES\"] = '3'\n",
    "np.random.seed(0)\n",
    "\n",
    "mnist = tf.keras.datasets.mnist\n",
    "(x_train, y_train), (x_test, y_test) = mnist.load_data()\n",
    "x_train, x_test = x_train / 255.0, x_test / 255.0\n",
    "\n",
    "y_train, y_test = tf.raw_ops.OneHot(indices=y_train, depth=10, on_value=1, off_value=0, axis=1), \\\n",
    "                  tf.raw_ops.OneHot(indices=y_test, depth=10, on_value=1, off_value=0, axis=1)\n",
    "\n",
    "# rnn\n",
    "# params modification\n",
    "\n",
    "seq_block = 1\n",
    "epochs = 10\n",
    "batch_size = 512\n",
    "learning_rate = 0.1\n",
    "num_seq = 28 * seq_block\n",
    "num_layers = 3\n",
    "iter_in_an_epoch = int(y_train.shape[0] // batch_size)\n",
    "\n",
    "x_train = x_train.reshape(x_train.shape[0], num_seq, -1)\n",
    "x_test = x_test.reshape(x_test.shape[0],num_seq, -1)\n",
    "\n",
    "X = tf.placeholder(tf.float32, [None, num_seq, x_train.shape[-1]])\n",
    "Y = tf.placeholder(tf.float32, [None, 10])\n",
    "keep_prob = tf.placeholder(tf.float32)\n",
    "\n",
    "# Wxh = tf.Variable(tf.random_normal([28 * sequence_block * 2, 28 * sequence_block]))  # [h_t-1,x_t] 곱해지는 Weight\n",
    "# bh = tf.Variable(tf.random_normal([28 * sequence_block * 2]))\n",
    "#\n",
    "Wyh = tf.Variable(tf.random_normal([x_train.shape[-1], 10]))\n",
    "by = tf.Variable(tf.random_normal([10]))\n",
    "#\n",
    "# h_prev = tf.zeros([28 * sequence_block])\n",
    "# for x_t in tf.unstack(tf.transpose(X, perm=[1,0,2])):\n",
    "#     h_t = tf.math.tanh(tf.matmul(tf.concat(0, [h_prev, x_t]), Wxh))\n",
    "#     h_prev = h_t\n",
    "#\n",
    "# y_t = tf.nn.relu(tf.matmul(h_t, Wyh) + by)\n",
    "\n",
    "layers = [tf.nn.rnn_cell.BasicLSTMCell(x_train.shape[-1],forget_bias=0.9)] * num_layers\n",
    "drops = [tf.nn.rnn_cell.DropoutWrapper(layer, output_keep_prob = keep_prob) for layer in layers]\n",
    "multi_layer_cell = tf.nn.rnn_cell.MultiRNNCell(drops)\n",
    "outputs, states = tf.nn.dynamic_rnn(multi_layer_cell, X, dtype=tf.float32)\n",
    "outputs = tf.transpose(outputs, [1, 0, 2])\n",
    "outputs = outputs[-1]\n",
    "\n",
    "rnn_logits = tf.matmul(outputs, Wyh) + by\n",
    "cost = tf.reduce_mean(tf.nn.softmax_cross_entropy_with_logits(logits=rnn_logits, labels=Y))\n",
    "train = tf.train.AdagradOptimizer(learning_rate).minimize(cost)\n",
    "accuracy = tf.reduce_mean(tf.cast(tf.equal(tf.argmax(rnn_logits, 1), tf.argmax(Y, 1)), tf.float32))\n",
    "\n",
    "\n",
    "\n",
    "with tf.Session() as sess:\n",
    "    sess.run(tf.global_variables_initializer())\n",
    "    for epoch in range(epochs):\n",
    "        avg_cost = 0\n",
    "        for i in range(iter_in_an_epoch):\n",
    "            batch_x = x_train[batch_size * i:batch_size * (i + 1)]\n",
    "            batch_y = y_train[batch_size * i:batch_size * (i + 1)].eval(session=sess)\n",
    "            _, c, val_acc = sess.run((train, cost, accuracy), feed_dict={X: batch_x, Y: batch_y, keep_prob: 1})\n",
    "            avg_cost += c / iter_in_an_epoch\n",
    "        print(f\"Epoch: {epoch + 1}, \" + f\"Cost: {avg_cost:.3f}, \" + f\"accuracy: {val_acc:.4f}\")\n",
    "\n",
    "    print(\"Cost:\", sess.run(cost, feed_dict={X: x_test, Y: y_test.eval(session=sess), keep_prob: 1}))\n",
    "    print(\"Accuracy:\", sess.run(accuracy, feed_dict={X: x_test, Y: y_test.eval(session=sess), keep_prob: 1}))\n"
   ]
  },
  {
   "cell_type": "code",
   "execution_count": null,
   "id": "20fa12ef",
   "metadata": {},
   "outputs": [],
   "source": []
  }
 ],
 "metadata": {
  "accelerator": "GPU",
  "colab": {
   "collapsed_sections": [
    "__bXI0neDFTr",
    "PJOle57nD8e8"
   ],
   "name": "MNIST.ipynb",
   "provenance": []
  },
  "kernelspec": {
   "display_name": "Python 3",
   "language": "python",
   "name": "python3"
  },
  "language_info": {
   "codemirror_mode": {
    "name": "ipython",
    "version": 3
   },
   "file_extension": ".py",
   "mimetype": "text/x-python",
   "name": "python",
   "nbconvert_exporter": "python",
   "pygments_lexer": "ipython3",
   "version": "3.8.8"
  },
  "toc": {
   "base_numbering": 1,
   "nav_menu": {},
   "number_sections": true,
   "sideBar": true,
   "skip_h1_title": false,
   "title_cell": "Table of Contents",
   "title_sidebar": "Contents",
   "toc_cell": false,
   "toc_position": {},
   "toc_section_display": true,
   "toc_window_display": false
  },
  "varInspector": {
   "cols": {
    "lenName": 16,
    "lenType": 16,
    "lenVar": 40
   },
   "kernels_config": {
    "python": {
     "delete_cmd_postfix": "",
     "delete_cmd_prefix": "del ",
     "library": "var_list.py",
     "varRefreshCmd": "print(var_dic_list())"
    },
    "r": {
     "delete_cmd_postfix": ") ",
     "delete_cmd_prefix": "rm(",
     "library": "var_list.r",
     "varRefreshCmd": "cat(var_dic_list()) "
    }
   },
   "types_to_exclude": [
    "module",
    "function",
    "builtin_function_or_method",
    "instance",
    "_Feature"
   ],
   "window_display": false
  }
 },
 "nbformat": 4,
 "nbformat_minor": 5
}
